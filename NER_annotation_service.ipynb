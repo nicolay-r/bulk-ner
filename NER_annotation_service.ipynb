{
  "nbformat": 4,
  "nbformat_minor": 0,
  "metadata": {
    "colab": {
      "provenance": [],
      "authorship_tag": "ABX9TyOLzgxobdwxK/REl1ePMFLL",
      "include_colab_link": true
    },
    "kernelspec": {
      "name": "python3",
      "display_name": "Python 3"
    },
    "language_info": {
      "name": "python"
    }
  },
  "cells": [
    {
      "cell_type": "markdown",
      "metadata": {
        "id": "view-in-github",
        "colab_type": "text"
      },
      "source": [
        "<a href=\"https://colab.research.google.com/github/nicolay-r/ner-service/blob/main/NER_annotation_service.ipynb\" target=\"_parent\"><img src=\"https://colab.research.google.com/assets/colab-badge.svg\" alt=\"Open In Colab\"/></a>"
      ]
    },
    {
      "cell_type": "code",
      "execution_count": null,
      "metadata": {
        "id": "YtgS5Zm81w0Y"
      },
      "outputs": [],
      "source": [
        "!git init .\n",
        "!git remote add origin https://github.com/nicolay-r/ner-service\n",
        "!git pull origin main"
      ]
    },
    {
      "cell_type": "code",
      "source": [
        "!pip install -r dependencies.txt"
      ],
      "metadata": {
        "id": "q4yZta0g36rI"
      },
      "execution_count": null,
      "outputs": []
    },
    {
      "cell_type": "markdown",
      "source": [
        "# For English texts"
      ],
      "metadata": {
        "id": "yYW3C7MC5Sku"
      }
    },
    {
      "cell_type": "code",
      "source": [
        "!python annotate.py --src \"data/subtaskA_dev_monolingual.csv\" --csv-sep \",\" --prompt \"{text}\" --model \"ner_ontonotes_bert\""
      ],
      "metadata": {
        "id": "-n7KuIeB3zUJ"
      },
      "execution_count": null,
      "outputs": []
    },
    {
      "cell_type": "markdown",
      "source": [
        "# Multilingual"
      ],
      "metadata": {
        "id": "LjFsgUuy5Vqb"
      }
    },
    {
      "cell_type": "code",
      "source": [
        "!python annotate.py --src \"data/subtaskA_dev_multilingual.csv\" --csv-sep \",\" --prompt \"{text}\" --model \"ner_ontonotes_bert_mult\""
      ],
      "metadata": {
        "id": "j6TY3qN95Ua2"
      },
      "execution_count": null,
      "outputs": []
    }
  ]
}