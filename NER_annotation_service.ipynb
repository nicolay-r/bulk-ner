{
  "nbformat": 4,
  "nbformat_minor": 0,
  "metadata": {
    "colab": {
      "provenance": [],
      "authorship_tag": "ABX9TyO5jSLY/nE8DgPSkfzuR67d",
      "include_colab_link": true
    },
    "kernelspec": {
      "name": "python3",
      "display_name": "Python 3"
    },
    "language_info": {
      "name": "python"
    }
  },
  "cells": [
    {
      "cell_type": "markdown",
      "metadata": {
        "id": "view-in-github",
        "colab_type": "text"
      },
      "source": [
        "<a href=\"https://colab.research.google.com/github/nicolay-r/fast-ner/blob/main/NER_annotation_service.ipynb\" target=\"_parent\"><img src=\"https://colab.research.google.com/assets/colab-badge.svg\" alt=\"Open In Colab\"/></a>"
      ]
    },
    {
      "cell_type": "markdown",
      "source": [
        "# fast-ner\n",
        "\n",
        "This notebook represent a tutorial for the project:\n",
        "\n",
        "https://github.com/nicolay-r/fast-ner"
      ],
      "metadata": {
        "id": "NqhRgjMFXaG4"
      }
    },
    {
      "cell_type": "markdown",
      "source": [
        "# Installation"
      ],
      "metadata": {
        "id": "sE4hLDO9cNaH"
      }
    },
    {
      "cell_type": "code",
      "execution_count": null,
      "metadata": {
        "id": "YtgS5Zm81w0Y"
      },
      "outputs": [],
      "source": [
        "!pip uninstall fast-ner -y\n",
        "!pip install git+https://github.com/nicolay-r/fast-ner@main"
      ]
    },
    {
      "cell_type": "code",
      "source": [
        "# Download model\n",
        "!wget -O dp_130.py https://raw.githubusercontent.com/nicolay-r/fast-ner/refs/heads/main/models/dp_130.py\n",
        "# install dependencies\n",
        "!pip install deeppavlov==1.3.0"
      ],
      "metadata": {
        "id": "-kI7Di0JXuLe"
      },
      "execution_count": null,
      "outputs": []
    },
    {
      "cell_type": "markdown",
      "source": [
        "# For Multilingual Texts"
      ],
      "metadata": {
        "id": "yYW3C7MC5Sku"
      }
    },
    {
      "cell_type": "code",
      "source": [
        "!wget https://raw.githubusercontent.com/nicolay-r/fast-ner/refs/heads/main/test/data/test.csv test.csv"
      ],
      "metadata": {
        "id": "TfOu9SlQYE9z"
      },
      "execution_count": null,
      "outputs": []
    },
    {
      "cell_type": "markdown",
      "source": [
        "> **NOTE:** You can set `--download` and `--install` to `0` to prevent installation checks."
      ],
      "metadata": {
        "id": "72Vhh75_gPrf"
      }
    },
    {
      "cell_type": "code",
      "source": [
        "!python -m fast_ner.annotate --src \"test.csv\" \\\n",
        "    --prompt \"{text}\" \\\n",
        "    --batch-size 10 \\\n",
        "    --adapter \"dynamic:dp_130.py:DeepPavlovNERPipelineItem\" \\\n",
        "    %% \\\n",
        "    --model \"ner_ontonotes_bert_mult\" \\\n",
        "    --download 1 \\\n",
        "    --install 1"
      ],
      "metadata": {
        "id": "-n7KuIeB3zUJ"
      },
      "execution_count": null,
      "outputs": []
    }
  ]
}